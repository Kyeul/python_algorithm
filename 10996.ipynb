{
 "cells": [
  {
   "cell_type": "markdown",
   "metadata": {},
   "source": [
    "# 별 찍기 - 21\n",
    "\n",
    "### 문제\n",
    "예제를 보고 규칙을 유추한 뒤에 별을 찍어 보세요.\n",
    "\n",
    "### 입력\n",
    "첫째 줄에 N(1 ≤ N ≤ 100)이 주어진다.\n",
    "\n",
    "### 출력\n",
    "첫째 줄부터 차례대로 별을 출력한다."
   ]
  },
  {
   "cell_type": "code",
   "execution_count": 1,
   "metadata": {},
   "outputs": [
    {
     "name": "stdin",
     "output_type": "stream",
     "text": [
      " 3\n"
     ]
    },
    {
     "name": "stdout",
     "output_type": "stream",
     "text": [
      "* *\n",
      " *\n",
      "* *\n",
      " *\n",
      "* *\n",
      " *\n"
     ]
    }
   ],
   "source": [
    "N = int(input())\n",
    "starList = []\n",
    "if N%2 != 0:\n",
    "    starList.append('*'+' *'*(int(N/2)))\n",
    "else:\n",
    "    starList.append('*'+' *'*(int(N/2)-1))\n",
    "starList.append(' *'*int(N/2))\n",
    "\n",
    "for i in range(1, (N*2)+1):\n",
    "    if i%2 == 1:\n",
    "        print(starList[(i%2)-1])\n",
    "    else:\n",
    "        print(starList[(i%2)+1])"
   ]
  },
  {
   "cell_type": "code",
   "execution_count": null,
   "metadata": {},
   "outputs": [],
   "source": []
  }
 ],
 "metadata": {
  "kernelspec": {
   "display_name": "Python 3",
   "language": "python",
   "name": "python3"
  },
  "language_info": {
   "codemirror_mode": {
    "name": "ipython",
    "version": 3
   },
   "file_extension": ".py",
   "mimetype": "text/x-python",
   "name": "python",
   "nbconvert_exporter": "python",
   "pygments_lexer": "ipython3",
   "version": "3.7.3"
  }
 },
 "nbformat": 4,
 "nbformat_minor": 4
}
