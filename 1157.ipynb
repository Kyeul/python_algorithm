{
 "cells": [
  {
   "cell_type": "markdown",
   "metadata": {},
   "source": [
    "# 단어 공부\n",
    "\n",
    "### 문제\n",
    "알파벳 대소문자로 된 단어가 주어지면, 이 단어에서 가장 많이 사용된 알파벳이 무엇인지 알아내는 프로그램을 작성하시오.   \n",
    "단, 대문자와 소문자를 구분하지 않는다.\n",
    "\n",
    "### 입력\n",
    "첫째 줄에 알파벳 대소문자로 이루어진 단어가 주어진다. 주어지는 단어의 길이는 1,000,000을 넘지 않는다.\n",
    "\n",
    "### 출력\n",
    "첫째 줄에 이 단어에서 가장 많이 사용된 알파벳을 대문자로 출력한다. 단, 가장 많이 사용된 알파벳이 여러 개 존재하는 경우에는 ?를 출력한다.\n",
    "\n",
    "### 예제 입력 1  \n",
    "Mississipi\n",
    "\n",
    "### 예제 출력 1  \n",
    "?"
   ]
  },
  {
   "cell_type": "code",
   "execution_count": 2,
   "metadata": {},
   "outputs": [
    {
     "name": "stdin",
     "output_type": "stream",
     "text": [
      " hello\n"
     ]
    },
    {
     "name": "stdout",
     "output_type": "stream",
     "text": [
      "L\n"
     ]
    }
   ],
   "source": [
    "s = input()\n",
    "s = s.upper()\n",
    "s_set = set(s)\n",
    "s_dic = {}\n",
    "for i in s_set:\n",
    "    s_dic[i] = 0\n",
    "for i in s:\n",
    "    s_dic[i] += 1\n",
    "enum_key = {}\n",
    "enum_value = {}\n",
    "for index, key in enumerate(s_dic.keys()):\n",
    "    enum_key[index] = key\n",
    "for index, value in enumerate(s_dic.values()):\n",
    "    enum_value[index] = value\n",
    "    \n",
    "maxNum = max(s_dic.values())\n",
    "count = 0\n",
    "for i in s_dic.values():\n",
    "    if maxNum == i:\n",
    "        count += 1\n",
    "if count > 1:\n",
    "    print('?')\n",
    "else:\n",
    "    for index, value in enum_value.items():\n",
    "        if maxNum == value:\n",
    "            print(enum_key[index])"
   ]
  }
 ],
 "metadata": {
  "kernelspec": {
   "display_name": "Python 3",
   "language": "python",
   "name": "python3"
  },
  "language_info": {
   "codemirror_mode": {
    "name": "ipython",
    "version": 3
   },
   "file_extension": ".py",
   "mimetype": "text/x-python",
   "name": "python",
   "nbconvert_exporter": "python",
   "pygments_lexer": "ipython3",
   "version": "3.7.3"
  }
 },
 "nbformat": 4,
 "nbformat_minor": 4
}
