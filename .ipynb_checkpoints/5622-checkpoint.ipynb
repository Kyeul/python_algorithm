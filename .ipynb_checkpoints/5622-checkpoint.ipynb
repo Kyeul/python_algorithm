{
 "cells": [
  {
   "cell_type": "markdown",
   "metadata": {},
   "source": [
    "# 다이얼\n",
    "\n",
    "상근이의 할머니는 아래 그림과 같이 오래된 다이얼 전화기를 사용한다.\n",
    "\n",
    "![다이얼](https://onlinejudgeimages.s3-ap-northeast-1.amazonaws.com/upload/images/dial.png)\n",
    "\n",
    "\n",
    "전화를 걸고 싶은 번호가 있다면, 숫자를 하나를 누른 다음에 금속 핀이 있는 곳 까지 시계방향으로 돌려야 한다. 숫자를 하나 누르면 다이얼이 처음 위치로 돌아가고, 다음 숫자를 누르려면 다이얼을 처음 위치에서 다시 돌려야 한다.\n",
    "  \n",
    "숫자 1을 걸려면 총 2초가 필요하다. 1보다 큰 수를 거는데 걸리는 시간은 이보다 더 걸리며, 한 칸 옆에 있는 숫자를 걸기 위해선 1초씩 더 걸린다.\n",
    "  \n",
    "상근이의 할머니는 전화 번호를 각 숫자에 해당하는 문자로 외운다. 즉, 어떤 단어를 걸 때, 각 알파벳에 해당하는 숫자를 걸면 된다. 예를 들어, UNUCIC는 868242와 같다.\n",
    "  \n",
    "할머니가 외운 단어가 주어졌을 때, 이 전화를 걸기 위해서 필요한 시간을 구하는 프로그램을 작성하시오.\n",
    "  \n",
    "### 입력  \n",
    "첫째 줄에 알파벳 대문자로 이루어진 단어가 주어진다. 단어는 2글자~15글자로 이루어져 있다.\n",
    "  \n",
    "### 출력\n",
    "첫째 줄에 다이얼을 걸기 위해서 필요한 시간을 출력한다.\n",
    "\n",
    "예제 입력 1    \n",
    "UNUCIC   \n",
    "\n",
    "예제 출력 1   \n",
    "36"
   ]
  },
  {
   "cell_type": "code",
   "execution_count": 1,
   "metadata": {},
   "outputs": [],
   "source": []
  },
  {
   "cell_type": "code",
   "execution_count": 12,
   "metadata": {},
   "outputs": [
    {
     "name": "stdin",
     "output_type": "stream",
     "text": [
      " UNUCICUNUCIC\n"
     ]
    },
    {
     "name": "stdout",
     "output_type": "stream",
     "text": [
      "72\n"
     ]
    }
   ],
   "source": [
    "numDic = {\n",
    "    '2' :['A', 'B', 'C'],\n",
    "    '3':['D','E','F'],\n",
    "    '4':['G','H','I'],\n",
    "    '5':['J','K','L'],\n",
    "    '6':['M', 'N','O'],\n",
    "    '7':['P', 'Q', 'R','S'],\n",
    "    '8':['T','U','V'],\n",
    "    '9':['W','X','Y','Z']\n",
    "}\n",
    "\n",
    "word = input()\n",
    "sum = 0\n",
    "for i in word:\n",
    "    for k, v in numDic.items():\n",
    "        if i in v:\n",
    "            sum += int(k)+1\n",
    "            \n",
    "print(sum)\n",
    "            "
   ]
  },
  {
   "cell_type": "code",
   "execution_count": 2,
   "metadata": {},
   "outputs": [
    {
     "data": {
      "text/plain": [
       "dict_items([('2', ['A', 'B', 'C']), ('3', ['D', 'E', 'F']), ('4', ['G', 'H', 'I']), ('5', ['J', 'K', 'L']), ('6', ['M', 'N', 'O']), ('7', ['P', 'Q', 'R', 'S']), ('8', ['T', 'U', 'V']), ('9', ['W', 'X', 'Z'])])"
      ]
     },
     "execution_count": 2,
     "metadata": {},
     "output_type": "execute_result"
    }
   ],
   "source": [
    "numDic.items()"
   ]
  },
  {
   "cell_type": "code",
   "execution_count": 7,
   "metadata": {},
   "outputs": [
    {
     "name": "stdout",
     "output_type": "stream",
     "text": [
      "[1, 0]\n",
      "o\n",
      "[2, 3]\n"
     ]
    }
   ],
   "source": [
    "a = [[1,0],[2,3]]\n",
    "for i in a:\n",
    "    print(i)\n",
    "    if 1 in i:\n",
    "        print('o')"
   ]
  },
  {
   "cell_type": "code",
   "execution_count": null,
   "metadata": {},
   "outputs": [],
   "source": []
  }
 ],
 "metadata": {
  "kernelspec": {
   "display_name": "Python 3",
   "language": "python",
   "name": "python3"
  },
  "language_info": {
   "codemirror_mode": {
    "name": "ipython",
    "version": 3
   },
   "file_extension": ".py",
   "mimetype": "text/x-python",
   "name": "python",
   "nbconvert_exporter": "python",
   "pygments_lexer": "ipython3",
   "version": "3.7.3"
  }
 },
 "nbformat": 4,
 "nbformat_minor": 4
}
