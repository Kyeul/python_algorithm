{
 "cells": [
  {
   "cell_type": "markdown",
   "metadata": {},
   "source": [
    "# 벌집\n",
    "\n",
    "### 문제\n",
    "\n",
    "![https://www.acmicpc.net/JudgeOnline/upload/201009/3(2).png]()\n",
    "  \n",
    "위의 그림과 같이 육각형으로 이루어진 벌집이 있다. 그림에서 보는 바와 같이 중앙의 방 1부터 시작해서 이웃하는 방에 돌아가면서 1씩 증가하는 번호를 주소로 매길 수 있다. 숫자 N이 주어졌을 때, 벌집의 중앙 1에서 N번 방까지 최소 개수의 방을 지나서 갈 때 몇 개의 방을 지나가는지(시작과 끝을 포함하여)를 계산하는 프로그램을 작성하시오. 예를 들면, 13까지는 3개, 58까지는 5개를 지난다.\n",
    "  \n",
    "### 입력\n",
    "첫째 줄에 N(1 ≤ N ≤ 1,000,000,000)이 주어진다.  \n",
    "\n",
    "### 출력\n",
    "입력으로 주어진 방까지 최소 개수의 방을 지나서 갈 때 몇 개의 방을 지나는지 출력한다.  \n",
    "  \n",
    "### 예제 입력 1 \n",
    "13 \n",
    "  \n",
    "### 예제 출력 1 \n",
    "3"
   ]
  },
  {
   "cell_type": "code",
   "execution_count": 3,
   "metadata": {},
   "outputs": [
    {
     "name": "stdin",
     "output_type": "stream",
     "text": [
      " 1\n"
     ]
    },
    {
     "name": "stdout",
     "output_type": "stream",
     "text": [
      "k: 0, m: 0.0\n",
      "1\n"
     ]
    }
   ],
   "source": [
    "N = int(input())\n",
    "k = 0\n",
    "\n",
    "    \n",
    "while True:\n",
    "    middle = (N-1)/3\n",
    "    if k*(k-1) <= middle and middle <= k*(k+1):\n",
    "        break\n",
    "    \n",
    "    k += 1\n",
    "    \n",
    "print(k+1)"
   ]
  }
 ],
 "metadata": {
  "kernelspec": {
   "display_name": "Python 3",
   "language": "python",
   "name": "python3"
  },
  "language_info": {
   "codemirror_mode": {
    "name": "ipython",
    "version": 3
   },
   "file_extension": ".py",
   "mimetype": "text/x-python",
   "name": "python",
   "nbconvert_exporter": "python",
   "pygments_lexer": "ipython3",
   "version": "3.7.3"
  }
 },
 "nbformat": 4,
 "nbformat_minor": 4
}
