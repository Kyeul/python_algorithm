{
 "cells": [
  {
   "cell_type": "markdown",
   "metadata": {},
   "source": [
    "# 크로아티아 알파벳\n",
    "\n",
    "## 문제  \n",
    "예전에는 운영체제에서 크로아티아 알파벳을 입력할 수가 없었다. 따라서, 다음과 같이 크로아티아 알파벳을 변경해서 입력했다.\n",
    "  \n",
    "크로아티아 알파벳\t변경  \n",
    "č\tc=  \n",
    "ć\tc-  \n",
    "dž\tdz=  \n",
    "đ\td-  \n",
    "lj\tlj  \n",
    "nj\tnj  \n",
    "š\ts=  \n",
    "ž\tz=  \n",
    "\n",
    "\n",
    "예를 들어, ljes=njak은 크로아티아 알파벳 6개(lj, e, š, nj, a, k)로 이루어져 있다. 단어가 주어졌을 때, 몇 개의 크로아티아 알파벳으로 이루어져 있는지 출력한다.  \n",
    "  \n",
    "dž는 무조건 하나의 알파벳으로 쓰이고, d와 ž가 분리된 것으로 보지 않는다. lj와 nj도 마찬가지이다. 위 목록에 없는 알파벳은 한 글자씩 센다.\n",
    "  \n",
    "\n",
    "### 입력  \n",
    "첫째 줄에 최대 100글자의 단어가 주어진다. 알파벳 소문자와 '-', '='로만 이루어져 있다.\n",
    "  \n",
    "단어는 크로아티아 알파벳으로 이루어져 있다. 문제 설명의 표에 나와있는 알파벳은 변경된 형태로 입력된다.\n",
    "  \n",
    "### 출력  \n",
    "입력으로 주어진 단어가 몇 개의 크로아티아 알파벳으로 이루어져 있는지 출력한다.\n",
    "  \n",
    "예제 입력 1   \n",
    "ljes=njak\n",
    "\n",
    "예제 출력 1  \n",
    "6"
   ]
  },
  {
   "cell_type": "code",
   "execution_count": 2,
   "metadata": {
    "collapsed": true,
    "jupyter": {
     "outputs_hidden": true
    }
   },
   "outputs": [
    {
     "name": "stdin",
     "output_type": "stream",
     "text": [
      " c=c=\n"
     ]
    },
    {
     "name": "stdout",
     "output_type": "stream",
     "text": [
      "['c=', 'c=']\n",
      "c  2\n",
      "  \n",
      "[]\n",
      "c  2\n",
      "  \n",
      "[]\n",
      "c  2\n",
      "  \n",
      "[]\n",
      "c  2\n",
      "  \n",
      "[]\n",
      "c  2\n",
      "  \n",
      "[]\n",
      "c  2\n",
      "  \n",
      "[]\n",
      "c  2\n",
      "  \n",
      "[]\n",
      "c  2\n",
      "  \n",
      "2\n"
     ]
    }
   ],
   "source": [
    "import re #정규식으로 문제 해결\n",
    "\n",
    "croatia_str = ['c=', 'c-','dz=','d-','lj','nj','s=','z=']  #검사해야할 문자열\n",
    "count = 0 #개수를 저장할 변수\n",
    "\n",
    "ipt_string = input() #문자열 입력받음\n",
    "    \n",
    "for i in croatia_str:  #검사할 문자열을 하나씩 반복\n",
    "    compiler = re.compile(i)  #해당 문자열 검사\n",
    "    cro_list = compiler.findall(ipt_string)  #문자열을 모두 찾아 리스트로 저장\n",
    "    count += len(cro_list)  #리스트의 길이를 count에 저장\n",
    "    ipt_string = re.sub(i, ' ', ipt_string)  #찾음 문자열은 삭제하고 공백으로 매꾼다.\n",
    "    \n",
    "ipt_string = re.sub(' ', '', ipt_string)    #생성한 공백을 모두 제거\n",
    "print(count+len(ipt_string)) #count변수와 남은 문자열의 길으를 더해 출력"
   ]
  }
 ],
 "metadata": {
  "kernelspec": {
   "display_name": "Python 3",
   "language": "python",
   "name": "python3"
  },
  "language_info": {
   "codemirror_mode": {
    "name": "ipython",
    "version": 3
   },
   "file_extension": ".py",
   "mimetype": "text/x-python",
   "name": "python",
   "nbconvert_exporter": "python",
   "pygments_lexer": "ipython3",
   "version": "3.7.3"
  }
 },
 "nbformat": 4,
 "nbformat_minor": 4
}
