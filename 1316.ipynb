{
 "cells": [
  {
   "cell_type": "markdown",
   "metadata": {},
   "source": [
    "# 1316 그룹 단어 체커\n",
    "\n",
    "# 문제  \n",
    "그룹 단어란 단어에 존재하는 모든 문자에 대해서, 각 문자가 연속해서 나타나는 경우만을 말한다. 예를 들면, ccazzzzbb는 c, a, z, b가 모두 연속해서 나타나고, kin도 k, i, n이 연속해서 나타나기 때문에 그룹 단어이지만, aabbbccb는 b가 떨어져서 나타나기 때문에 그룹 단어가 아니다.  \n",
    "  \n",
    "단어 N개를 입력으로 받아 그룹 단어의 개수를 출력하는 프로그램을 작성하시오.\n",
    "  \n",
    "# 입력  \n",
    "첫째 줄에 단어의 개수 N이 들어온다. N은 100보다 작거나 같은 자연수이다. 둘째 줄부터 N개의 줄에 단어가 들어온다. 단어는 알파벳 소문자로만 되어있고 중복되지 않으며, 길이는 최대 100이다.\n",
    "  \n",
    "### 출력  \n",
    "첫째 줄에 그룹 단어의 개수를 출력한다.  \n",
    "\n",
    "\n",
    "### 예제 입력 1   \n",
    "3  \n",
    "\n",
    "happy  \n",
    "new  \n",
    "year  \n",
    " \n",
    "### 예제 출력 1\n",
    "3  \n",
    "\n",
    "\n",
    "### 예제 입력 2  \n",
    "4\n",
    "\n",
    "aba  \n",
    "abab  \n",
    "abcabc  \n",
    "a  \n",
    "\n",
    "### 예제 출력 2\n",
    "1  "
   ]
  },
  {
   "cell_type": "code",
   "execution_count": null,
   "metadata": {},
   "outputs": [],
   "source": []
  },
  {
   "cell_type": "code",
   "execution_count": null,
   "metadata": {},
   "outputs": [],
   "source": []
  },
  {
   "cell_type": "code",
   "execution_count": 4,
   "metadata": {},
   "outputs": [
    {
     "name": "stdin",
     "output_type": "stream",
     "text": [
      " 2\n",
      " aba\n",
      " abab\n"
     ]
    },
    {
     "name": "stdout",
     "output_type": "stream",
     "text": [
      "0\n"
     ]
    }
   ],
   "source": [
    "import re\n",
    "\n",
    "N = int(input())\n",
    "count = N\n",
    "for i in range(N):\n",
    "    word = input()\n",
    "    \n",
    "    for i in word:\n",
    "        idx = []\n",
    "        sign = 0\n",
    "        for j in re.finditer(i, word):\n",
    "            idx.append(j.start())\n",
    "        \n",
    "        for j in range(len(idx)):\n",
    "            try:\n",
    "                if (idx[j+1] - idx[j]) > 1:\n",
    "                    count -= 1\n",
    "                    sign = 1\n",
    "                    break\n",
    "            except IndexError:\n",
    "                break\n",
    "        \n",
    "        if sign ==1 :\n",
    "            break\n",
    "print(count)"
   ]
  },
  {
   "cell_type": "code",
   "execution_count": null,
   "metadata": {},
   "outputs": [],
   "source": []
  }
 ],
 "metadata": {
  "kernelspec": {
   "display_name": "Python 3",
   "language": "python",
   "name": "python3"
  },
  "language_info": {
   "codemirror_mode": {
    "name": "ipython",
    "version": 3
   },
   "file_extension": ".py",
   "mimetype": "text/x-python",
   "name": "python",
   "nbconvert_exporter": "python",
   "pygments_lexer": "ipython3",
   "version": "3.7.3"
  }
 },
 "nbformat": 4,
 "nbformat_minor": 4
}
